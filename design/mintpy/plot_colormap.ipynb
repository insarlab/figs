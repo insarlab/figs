{
 "cells": [
  {
   "cell_type": "markdown",
   "metadata": {},
   "source": [
    "## Plot colormap like [GMT](https://docs.generic-mapping-tools.org/6.5/reference/cpts.html)\n",
    "\n",
    "To support: https://mintpy.readthedocs.io/en/latest/api/colormaps/"
   ]
  },
  {
   "cell_type": "code",
   "execution_count": 6,
   "metadata": {},
   "outputs": [
    {
     "name": "stdout",
     "output_type": "stream",
     "text": [
      "Warm up functions.\n"
     ]
    }
   ],
   "source": [
    "%matplotlib inline\n",
    "import os\n",
    "import matplotlib as mpl\n",
    "from matplotlib import pyplot as plt\n",
    "from mintpy.objects.colors import ColormapExt, read_cpt_file\n",
    "\n",
    "def plot_colormap(cmap_name, out_file=None):\n",
    "    # define colormap\n",
    "    cmap1 = ColormapExt(cmap_name).colormap\n",
    "    cmap2 = ColormapExt(cmap_name, cmap_lut=8).colormap\n",
    "\n",
    "    # plot\n",
    "    fig, axs = plt.subplots(nrows=2, ncols=1, figsize=[5, 0.5], sharex=True, sharey=True)\n",
    "    mpl.colorbar.ColorbarBase(axs[0], cmap=cmap1, orientation='horizontal')\n",
    "    mpl.colorbar.ColorbarBase(axs[1], cmap=cmap2, orientation='horizontal')\n",
    "\n",
    "    # axis format\n",
    "    for ax in axs:\n",
    "        ax.set_xticklabels([])\n",
    "    fig.subplots_adjust(hspace=0)\n",
    "    axs[0].set_title(cmap_name, fontsize=12, weight='bold')\n",
    "\n",
    "    # output\n",
    "    if out_file:\n",
    "        print('save figure to', out_file)\n",
    "        fig.savefig(out_file, bbox_inches='tight', transparent=True, dpi=600)\n",
    "    plt.show()\n",
    "\n",
    "print('Warm up functions.')"
   ]
  },
  {
   "cell_type": "code",
   "execution_count": 2,
   "metadata": {},
   "outputs": [
    {
     "name": "stdout",
     "output_type": "stream",
     "text": [
      "save figure to /Users/yunjunz/Downloads/cmap_cmy.png\n"
     ]
    },
    {
     "data": {
      "image/png": "[encoded data removed]",
      "text/plain": [
       "<Figure size 500x50 with 2 Axes>"
      ]
     },
     "metadata": {},
     "output_type": "display_data"
    }
   ],
   "source": [
    "cmap_name = 'cmy'\n",
    "out_file = os.path.expanduser('~/Downloads/cmap_{}.png'.format(cmap_name))\n",
    "plot_colormap(cmap_name, out_file=out_file)"
   ]
  },
  {
   "cell_type": "code",
   "execution_count": 3,
   "metadata": {},
   "outputs": [
    {
     "name": "stdout",
     "output_type": "stream",
     "text": [
      "save figure to /Users/yunjunz/Downloads/cmap_dismph.png\n"
     ]
    },
    {
     "data": {
      "image/png": "[encoded data removed]",
      "text/plain": [
       "<Figure size 500x50 with 2 Axes>"
      ]
     },
     "metadata": {},
     "output_type": "display_data"
    }
   ],
   "source": [
    "cmap_name = 'dismph'\n",
    "out_file = os.path.expanduser('~/Downloads/cmap_{}.png'.format(cmap_name))\n",
    "plot_colormap(cmap_name, out_file=out_file)"
   ]
  },
  {
   "cell_type": "code",
   "execution_count": null,
   "metadata": {},
   "outputs": [],
   "source": []
  }
 ],
 "metadata": {
  "kernelspec": {
   "display_name": "Python 3 (ipykernel)",
   "language": "python",
   "name": "python3"
  },
  "language_info": {
   "codemirror_mode": {
    "name": "ipython",
    "version": 3
   },
   "file_extension": ".py",
   "mimetype": "text/x-python",
   "name": "python",
   "nbconvert_exporter": "python",
   "pygments_lexer": "ipython3",
   "version": "3.10.10"
  }
 },
 "nbformat": 4,
 "nbformat_minor": 4
}
